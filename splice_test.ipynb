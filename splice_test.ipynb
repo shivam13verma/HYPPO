{
 "cells": [
  {
   "cell_type": "code",
   "execution_count": 16,
   "metadata": {
    "collapsed": false
   },
   "outputs": [],
   "source": [
    "%matplotlib inline\n",
    "from sklearn.svm import SVC\n",
    "from sklearn.datasets import load_svmlight_file\n",
    "from sklearn.cross_validation import cross_val_score\n",
    "from hyppo import BayesOptCV\n",
    "import matplotlib.pyplot as sns"
   ]
  },
  {
   "cell_type": "code",
   "execution_count": 10,
   "metadata": {
    "collapsed": true
   },
   "outputs": [],
   "source": [
    "def get_data(fpath):\n",
    "    data = load_svmlight_file(fpath)\n",
    "    return data[0], data[1]\n",
    "\n",
    "train_path = 'splice_data/splice_noise_train.txt'\n",
    "test_path = 'splice_data/splice_noise_test.txt'\n",
    "\n",
    "train_data, train_labels = get_data(train_path)\n",
    "test_data, test_label = get_data(test_path)\n",
    "\n",
    "from sklearn.preprocessing import MinMaxScaler"
   ]
  },
  {
   "cell_type": "code",
   "execution_count": 11,
   "metadata": {
    "collapsed": false
   },
   "outputs": [
    {
     "name": "stdout",
     "output_type": "stream",
     "text": [
      "(2375, 60)\n",
      "(800, 60)\n"
     ]
    }
   ],
   "source": [
    "scaler = MinMaxScaler(feature_range=(-1, 1))\n",
    "\n",
    "train_data = scaler.fit_transform(train_data.toarray())\n",
    "test_data = scaler.transform(test_data.toarray())\n",
    "\n",
    "print train_data.shape\n",
    "print test_data.shape\n",
    "import numpy as np\n",
    "f = lambda x: np.sin(x)\n",
    "sigma = 0.02  # noise variance.\n"
   ]
  },
  {
   "cell_type": "code",
   "execution_count": 17,
   "metadata": {
    "collapsed": false
   },
   "outputs": [
    {
     "name": "stdout",
     "output_type": "stream",
     "text": [
      "[[ 1  1]\n",
      " [15  5]\n",
      " [60 10]]\n",
      "[ 0.30205296  0.30753833  0.30899542]\n",
      "Best x at round 0 is: [  6.00000000e+01   6.40000000e-05]\n",
      "Best y at round 0 is: 0.324965132497\n",
      "best so far 0.30205296378\n",
      "params{'C': 1.0, 'gamma': 1.0}\n",
      "Best x at round 1 is: [ 25.45864955  10.        ]\n",
      "Best y at round 1 is: 0.324965132497\n",
      "best so far 0.241374041224\n",
      "params{'C': 60.0, 'gamma': 6.4000000000064006e-05}\n",
      "Best x at round 2 is: [  6.40000000e-05   6.56981784e+00]\n",
      "Best y at round 2 is: 0.324965132497\n",
      "best so far 0.241374041224\n",
      "params{'C': 60.0, 'gamma': 6.4000000000064006e-05}\n",
      "Best x at round 3 is: [  6.40000000e-05   8.37025253e+00]\n",
      "Best y at round 3 is: 0.324965132497\n",
      "best so far 0.241374041224\n",
      "params{'C': 60.0, 'gamma': 6.4000000000064006e-05}\n",
      "Best x at round 4 is: [  6.40000000e-05   7.34208096e+00]\n",
      "Best y at round 4 is: 0.324965132497\n",
      "best so far 0.241374041224\n",
      "params{'C': 60.0, 'gamma': 6.4000000000064006e-05}\n",
      "Best x at round 5 is: [ 60.          6.1264888]\n",
      "Best y at round 5 is: 0.324965132497\n",
      "best so far 0.241374041224\n",
      "params{'C': 60.0, 'gamma': 6.4000000000064006e-05}\n",
      "Best x at round 6 is: [  6.40000000e-05   9.43889879e+00]\n",
      "Best y at round 6 is: 0.324965132497\n",
      "best so far 0.241374041224\n",
      "params{'C': 60.0, 'gamma': 6.4000000000064006e-05}\n",
      "Best x at round 7 is: [ 46.42722745   8.00517789]\n",
      "Best y at round 7 is: 0.324965132497\n",
      "best so far 0.241374041224\n",
      "params{'C': 60.0, 'gamma': 6.4000000000064006e-05}\n",
      "Best x at round 8 is: [ 1.95196792  8.71863538]\n",
      "Best y at round 8 is: 0.324965132497\n",
      "best so far 0.241374041224\n",
      "params{'C': 60.0, 'gamma': 6.4000000000064006e-05}\n",
      "Best x at round 9 is: [  3.19953260e+01   6.40000000e-05]\n",
      "Best y at round 9 is: 0.324965132497\n",
      "best so far 0.241374041224\n",
      "params{'C': 60.0, 'gamma': 6.4000000000064006e-05}\n",
      "Best params are: {'best_param': {'C': 60.0, 'gamma': 6.4000000000064006e-05}, 'best_val': 0.24137404122396}\n",
      "Final Results\n",
      "SVC: 0.241374\n"
     ]
    }
   ],
   "source": [
    "def sin(C):\n",
    "    \n",
    "    return f(C) + sigma * np.random.randn(1)[0]\n",
    "def svccv(C, gamma):\n",
    "    return 1 - cross_val_score(SVC(C=C, kernel='rbf', gamma=gamma , random_state=2),\n",
    "                           train_data, train_labels, 'f1', cv=5).mean()\n",
    "                           \n",
    "svcBO = BayesOptCV(svccv, param_grid={'C':{'type':'float', 'min':6.4e-05, 'max':60},\n",
    "                                      'gamma':{'type':'float', 'min':6.4e-5, 'max':10}},\n",
    "                   bigger_is_better=False, verbose=2)\n",
    "\n",
    "svcBO.initialize(num_init=10, init_grid={'C': [1, 15, 60], 'gamma':[1, 5, 10]})\n",
    "# kernel_param = {'nugget':0.0000001}\n",
    "kernel_param = {'theta0':0.1}\n",
    "acqui_param = {'kappa':4} \n",
    "svcBO.optimize(kernel_param=kernel_param, acqui_param=acqui_param, n_iter=10, acqui_type='ucb', n_acqui_iter=200)\n",
    "print('Final Results')                             \n",
    "print('SVC: %f' % svcBO.report['best']['best_val'])\n",
    "#plt.show()"
   ]
  },
  {
   "cell_type": "code",
   "execution_count": 19,
   "metadata": {
    "collapsed": false
   },
   "outputs": [
    {
     "name": "stdout",
     "output_type": "stream",
     "text": [
      "[[ 1]\n",
      " [15]\n",
      " [60]]\n",
      "[ 0.30753833  0.3058715   0.3058715 ]\n",
      "Best x at round 0 is: [ 43.79013592]\n",
      "Best y at round 0 is: 0.324965132497\n",
      "best so far 0.305871503402\n",
      "params{'C': 15.0}\n",
      "Best x at round 1 is: [ 30.28178677]\n",
      "Best y at round 1 is: 0.324965132497\n",
      "best so far 0.305871503402\n",
      "params{'C': 15.0}\n",
      "Best x at round 2 is: [ 54.3048112]\n",
      "Best y at round 2 is: 0.324965132497\n",
      "best so far 0.305871503402\n",
      "params{'C': 15.0}\n",
      "Best x at round 3 is: [  6.40000000e-05]\n",
      "Best y at round 3 is: 0.324965132497\n",
      "best so far 0.305871503402\n",
      "params{'C': 15.0}\n",
      "Best x at round 4 is: [ 0.0201379]\n",
      "Best y at round 4 is: 0.324965132497\n",
      "best so far 0.305871503402\n",
      "params{'C': 15.0}\n"
     ]
    },
    {
     "ename": "Exception",
     "evalue": "Multiple input features cannot have the same target value.",
     "output_type": "error",
     "traceback": [
      "\u001b[0;31m---------------------------------------------------------------------------\u001b[0m",
      "\u001b[0;31mException\u001b[0m                                 Traceback (most recent call last)",
      "\u001b[0;32m<ipython-input-19-d5f5a5f8f398>\u001b[0m in \u001b[0;36m<module>\u001b[0;34m()\u001b[0m\n\u001b[1;32m     11\u001b[0m \u001b[0mkernel_param\u001b[0m \u001b[0;34m=\u001b[0m \u001b[0;34m{\u001b[0m\u001b[0;34m'theta0'\u001b[0m\u001b[0;34m:\u001b[0m\u001b[0;36m0.1\u001b[0m\u001b[0;34m}\u001b[0m\u001b[0;34m\u001b[0m\u001b[0m\n\u001b[1;32m     12\u001b[0m \u001b[0macqui_param\u001b[0m \u001b[0;34m=\u001b[0m \u001b[0;34m{\u001b[0m\u001b[0;34m'kappa'\u001b[0m\u001b[0;34m:\u001b[0m\u001b[0;36m4\u001b[0m\u001b[0;34m}\u001b[0m\u001b[0;34m\u001b[0m\u001b[0m\n\u001b[0;32m---> 13\u001b[0;31m \u001b[0msvcBO\u001b[0m\u001b[0;34m.\u001b[0m\u001b[0moptimize\u001b[0m\u001b[0;34m(\u001b[0m\u001b[0mkernel_param\u001b[0m\u001b[0;34m=\u001b[0m\u001b[0mkernel_param\u001b[0m\u001b[0;34m,\u001b[0m \u001b[0macqui_param\u001b[0m\u001b[0;34m=\u001b[0m\u001b[0macqui_param\u001b[0m\u001b[0;34m,\u001b[0m \u001b[0mn_iter\u001b[0m\u001b[0;34m=\u001b[0m\u001b[0;36m10\u001b[0m\u001b[0;34m,\u001b[0m \u001b[0macqui_type\u001b[0m\u001b[0;34m=\u001b[0m\u001b[0;34m'ucb'\u001b[0m\u001b[0;34m,\u001b[0m \u001b[0mn_acqui_iter\u001b[0m\u001b[0;34m=\u001b[0m\u001b[0;36m200\u001b[0m\u001b[0;34m)\u001b[0m\u001b[0;34m\u001b[0m\u001b[0m\n\u001b[0m\u001b[1;32m     14\u001b[0m \u001b[0;32mprint\u001b[0m\u001b[0;34m(\u001b[0m\u001b[0;34m'Final Results'\u001b[0m\u001b[0;34m)\u001b[0m\u001b[0;34m\u001b[0m\u001b[0m\n\u001b[1;32m     15\u001b[0m \u001b[0;32mprint\u001b[0m\u001b[0;34m(\u001b[0m\u001b[0;34m'SVC: %f'\u001b[0m \u001b[0;34m%\u001b[0m \u001b[0msvcBO\u001b[0m\u001b[0;34m.\u001b[0m\u001b[0mreport\u001b[0m\u001b[0;34m[\u001b[0m\u001b[0;34m'best'\u001b[0m\u001b[0;34m]\u001b[0m\u001b[0;34m[\u001b[0m\u001b[0;34m'best_val'\u001b[0m\u001b[0;34m]\u001b[0m\u001b[0;34m)\u001b[0m\u001b[0;34m\u001b[0m\u001b[0m\n",
      "\u001b[0;32m/Users/shivamverma/Documents/HYPPO/hyppo.pyc\u001b[0m in \u001b[0;36moptimize\u001b[0;34m(self, acqui_param, kernel_param, n_iter, acqui_type, n_acqui_iter, kernel_type)\u001b[0m\n\u001b[1;32m    188\u001b[0m             \u001b[0mself\u001b[0m\u001b[0;34m.\u001b[0m\u001b[0mY\u001b[0m \u001b[0;34m=\u001b[0m \u001b[0mnp\u001b[0m\u001b[0;34m.\u001b[0m\u001b[0mappend\u001b[0m\u001b[0;34m(\u001b[0m\u001b[0mself\u001b[0m\u001b[0;34m.\u001b[0m\u001b[0mY\u001b[0m\u001b[0;34m,\u001b[0m \u001b[0mself\u001b[0m\u001b[0;34m.\u001b[0m\u001b[0mfun\u001b[0m\u001b[0;34m(\u001b[0m\u001b[0;34m**\u001b[0m\u001b[0mdict\u001b[0m\u001b[0;34m(\u001b[0m\u001b[0mzip\u001b[0m\u001b[0;34m(\u001b[0m\u001b[0mself\u001b[0m\u001b[0;34m.\u001b[0m\u001b[0mparam_keys\u001b[0m\u001b[0;34m,\u001b[0m \u001b[0mx_max\u001b[0m\u001b[0;34m)\u001b[0m\u001b[0;34m)\u001b[0m\u001b[0;34m)\u001b[0m\u001b[0;34m)\u001b[0m\u001b[0;34m\u001b[0m\u001b[0m\n\u001b[1;32m    189\u001b[0m             \u001b[0mur\u001b[0m \u001b[0;34m=\u001b[0m \u001b[0mself\u001b[0m\u001b[0;34m.\u001b[0m\u001b[0munique_rows\u001b[0m\u001b[0;34m(\u001b[0m\u001b[0mself\u001b[0m\u001b[0;34m.\u001b[0m\u001b[0mX\u001b[0m\u001b[0;34m)\u001b[0m\u001b[0;34m\u001b[0m\u001b[0m\n\u001b[0;32m--> 190\u001b[0;31m             \u001b[0mgp\u001b[0m\u001b[0;34m.\u001b[0m\u001b[0mfit\u001b[0m\u001b[0;34m(\u001b[0m\u001b[0mself\u001b[0m\u001b[0;34m.\u001b[0m\u001b[0mX\u001b[0m\u001b[0;34m[\u001b[0m\u001b[0mur\u001b[0m\u001b[0;34m]\u001b[0m\u001b[0;34m,\u001b[0m \u001b[0mself\u001b[0m\u001b[0;34m.\u001b[0m\u001b[0mY\u001b[0m\u001b[0;34m[\u001b[0m\u001b[0mur\u001b[0m\u001b[0;34m]\u001b[0m\u001b[0;34m)\u001b[0m\u001b[0;34m\u001b[0m\u001b[0m\n\u001b[0m\u001b[1;32m    191\u001b[0m \u001b[0;34m\u001b[0m\u001b[0m\n\u001b[1;32m    192\u001b[0m             \u001b[0mmus_and_covs\u001b[0m \u001b[0;34m=\u001b[0m \u001b[0;34m[\u001b[0m\u001b[0mgp\u001b[0m\u001b[0;34m.\u001b[0m\u001b[0mpredict\u001b[0m\u001b[0;34m(\u001b[0m\u001b[0mx_test\u001b[0m\u001b[0;34m,\u001b[0m \u001b[0meval_MSE\u001b[0m\u001b[0;34m=\u001b[0m\u001b[0mTrue\u001b[0m\u001b[0;34m)\u001b[0m \u001b[0;32mfor\u001b[0m \u001b[0mx_test\u001b[0m \u001b[0;32min\u001b[0m \u001b[0mself\u001b[0m\u001b[0;34m.\u001b[0m\u001b[0mobj_xtest\u001b[0m\u001b[0;34m]\u001b[0m\u001b[0;34m\u001b[0m\u001b[0m\n",
      "\u001b[0;32m/Users/shivamverma/Documents/HYPPO/gaussian_process_sklearn/gaussian_process.pyc\u001b[0m in \u001b[0;36mfit\u001b[0;34m(self, X, y)\u001b[0m\n\u001b[1;32m    298\u001b[0m         if (np.min(np.sum(D, axis=1)) == 0.\n\u001b[1;32m    299\u001b[0m                 and self.corr != correlation.pure_nugget):\n\u001b[0;32m--> 300\u001b[0;31m             raise Exception(\"Multiple input features cannot have the same\"\n\u001b[0m\u001b[1;32m    301\u001b[0m                             \" target value.\")\n\u001b[1;32m    302\u001b[0m \u001b[0;34m\u001b[0m\u001b[0m\n",
      "\u001b[0;31mException\u001b[0m: Multiple input features cannot have the same target value."
     ]
    }
   ],
   "source": [
    "\n",
    "def svccv(C):\n",
    "    return 1 - cross_val_score(SVC(C=C, kernel='rbf', gamma=3, random_state=2),\n",
    "                           train_data, train_labels, 'f1', cv=5).mean()\n",
    "                           \n",
    "svcBO = BayesOptCV(svccv, param_grid={'C':{'type':'float', 'min':6.4e-05, 'max':60}},\n",
    "                   bigger_is_better=False, verbose=2)\n",
    "\n",
    "svcBO.initialize(num_init=10, init_grid={'C': [1, 15, 60]})\n",
    "# kernel_param = {'nugget':0.0000001}\n",
    "kernel_param = {'theta0':0.1}\n",
    "acqui_param = {'kappa':4} \n",
    "svcBO.optimize(kernel_param=kernel_param, acqui_param=acqui_param, n_iter=10, acqui_type='ucb', n_acqui_iter=200)\n",
    "print('Final Results')                             \n",
    "print('SVC: %f' % svcBO.report['best']['best_val'])\n",
    "#plt.show()"
   ]
  },
  {
   "cell_type": "code",
   "execution_count": null,
   "metadata": {
    "collapsed": true
   },
   "outputs": [],
   "source": []
  }
 ],
 "metadata": {
  "kernelspec": {
   "display_name": "Python 2",
   "language": "python",
   "name": "python2"
  },
  "language_info": {
   "codemirror_mode": {
    "name": "ipython",
    "version": 2
   },
   "file_extension": ".py",
   "mimetype": "text/x-python",
   "name": "python",
   "nbconvert_exporter": "python",
   "pygments_lexer": "ipython2",
   "version": "2.7.11"
  }
 },
 "nbformat": 4,
 "nbformat_minor": 0
}
